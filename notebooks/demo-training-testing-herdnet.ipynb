{
 "cells": [
  {
   "cell_type": "markdown",
   "metadata": {
    "id": "tOMmy2YvTHSy"
   },
   "source": [
    "# DEMO - Training and testing HerdNet on nadir aerial images"
   ]
  },
  {
   "cell_type": "markdown",
   "metadata": {
    "id": "_XTpIbRwT9PO"
   },
   "source": [
    "## Installations"
   ]
  },
  {
   "cell_type": "code",
   "metadata": {
    "id": "9v5ab5BbSrVl",
    "ExecuteTime": {
     "end_time": "2025-09-14T14:01:21.347885Z",
     "start_time": "2025-09-14T14:01:21.041204Z"
    }
   },
   "source": [
    "# Check GPU\n",
    "!nvidia-smi"
   ],
   "outputs": [
    {
     "name": "stdout",
     "output_type": "stream",
     "text": [
      "Sun Sep 14 09:01:21 2025       \r\n",
      "+-----------------------------------------------------------------------------------------+\r\n",
      "| NVIDIA-SMI 580.76.05              Driver Version: 580.76.05      CUDA Version: 13.0     |\r\n",
      "+-----------------------------------------+------------------------+----------------------+\r\n",
      "| GPU  Name                 Persistence-M | Bus-Id          Disp.A | Volatile Uncorr. ECC |\r\n",
      "| Fan  Temp   Perf          Pwr:Usage/Cap |           Memory-Usage | GPU-Util  Compute M. |\r\n",
      "|                                         |                        |               MIG M. |\r\n",
      "|=========================================+========================+======================|\r\n",
      "|   0  NVIDIA GeForce RTX 4050 ...    On  |   00000000:01:00.0 Off |                  N/A |\r\n",
      "| N/A   67C    P8              2W /  115W |      15MiB /   6141MiB |      0%      Default |\r\n",
      "|                                         |                        |                  N/A |\r\n",
      "+-----------------------------------------+------------------------+----------------------+\r\n",
      "\r\n",
      "+-----------------------------------------------------------------------------------------+\r\n",
      "| Processes:                                                                              |\r\n",
      "|  GPU   GI   CI              PID   Type   Process name                        GPU Memory |\r\n",
      "|        ID   ID                                                               Usage      |\r\n",
      "|=========================================================================================|\r\n",
      "|    0   N/A  N/A            3982      G   /usr/bin/gnome-shell                      1MiB |\r\n",
      "+-----------------------------------------------------------------------------------------+\r\n"
     ]
    }
   ],
   "execution_count": 1
  },
  {
   "metadata": {},
   "cell_type": "code",
   "outputs": [],
   "execution_count": null,
   "source": "!gdown 1ktCRABEOfvUgfCz9nyKjmgHYsO6xGKl0 -O data-delplanque.zip"
  },
  {
   "cell_type": "markdown",
   "metadata": {
    "id": "cuxaC9qGVk5S"
   },
   "source": [
    "## Create datasets"
   ]
  },
  {
   "cell_type": "code",
   "metadata": {
    "id": "y1n_cQLFYBsJ",
    "ExecuteTime": {
     "end_time": "2025-09-14T14:01:23.661468Z",
     "start_time": "2025-09-14T14:01:21.351113Z"
    }
   },
   "source": [
    "# Set the seed\n",
    "from animaloc.utils.seed import set_seed\n",
    "ROOT_DIR=\"../data-delplanque\"\n",
    "set_seed(9292)"
   ],
   "outputs": [],
   "execution_count": 2
  },
  {
   "cell_type": "code",
   "metadata": {
    "id": "Bwp4XPR8YNMR",
    "ExecuteTime": {
     "end_time": "2025-09-14T14:01:24.018946Z",
     "start_time": "2025-09-14T14:01:23.761620Z"
    }
   },
   "source": [
    "# Training, validation and test datasets\n",
    "import albumentations as A\n",
    "\n",
    "from animaloc.datasets import CSVDataset\n",
    "from animaloc.data.transforms import MultiTransformsWrapper, DownSample, PointsToMask, FIDT\n",
    "\n",
    "patch_size = 512\n",
    "num_classes = 7\n",
    "down_ratio = 2\n",
    "\n",
    "train_dataset = CSVDataset(\n",
    "    csv_file = f'{ROOT_DIR}/train_patches.csv',\n",
    "    root_dir = f'{ROOT_DIR}/train_patches',\n",
    "    albu_transforms = [\n",
    "        A.VerticalFlip(p=0.5), \n",
    "        A.HorizontalFlip(p=0.5),\n",
    "        A.RandomRotate90(p=0.5),\n",
    "        A.RandomBrightnessContrast(brightness_limit=0.2, contrast_limit=0.2, p=0.2),\n",
    "        A.Blur(blur_limit=15, p=0.2),\n",
    "        A.Normalize(p=1.0)\n",
    "        ],\n",
    "    end_transforms = [MultiTransformsWrapper([\n",
    "        FIDT(num_classes=num_classes, down_ratio=down_ratio),\n",
    "        PointsToMask(radius=2, num_classes=num_classes, squeeze=True, down_ratio=int(patch_size//16))\n",
    "        ])]\n",
    "    )\n",
    "\n",
    "val_dataset = CSVDataset(\n",
    "    csv_file = f'{ROOT_DIR}/val_patches/gt.csv',\n",
    "    root_dir = f'{ROOT_DIR}/val_patches',\n",
    "    albu_transforms = [A.Normalize(p=1.0)],\n",
    "    end_transforms = [DownSample(down_ratio=down_ratio, anno_type='point')]\n",
    "    )\n",
    "\n",
    "test_dataset = CSVDataset(\n",
    "    csv_file = f'{ROOT_DIR}/test.csv',\n",
    "    root_dir = f'{ROOT_DIR}/test',\n",
    "    albu_transforms = [A.Normalize(p=1.0)],\n",
    "    end_transforms = [DownSample(down_ratio=down_ratio, anno_type='point')]\n",
    "    )"
   ],
   "outputs": [],
   "execution_count": 3
  },
  {
   "cell_type": "code",
   "metadata": {
    "id": "lR1W5NVFYhiZ",
    "ExecuteTime": {
     "end_time": "2025-09-14T14:01:24.026758Z",
     "start_time": "2025-09-14T14:01:24.024389Z"
    }
   },
   "source": [
    "# Dataloaders\n",
    "from torch.utils.data import DataLoader\n",
    "\n",
    "train_dataloader = DataLoader(dataset = train_dataset, batch_size = 8, shuffle = True, num_workers=16)\n",
    "\n",
    "val_dataloader = DataLoader(dataset = val_dataset, batch_size = 1, shuffle = False, num_workers=8)\n",
    "\n",
    "test_dataloader = DataLoader(dataset = test_dataset, batch_size = 1, shuffle = False, num_workers=8)"
   ],
   "outputs": [],
   "execution_count": 4
  },
  {
   "cell_type": "markdown",
   "metadata": {
    "id": "emWQUMq2Vwpj"
   },
   "source": [
    "## Define HerdNet for training"
   ]
  },
  {
   "cell_type": "code",
   "metadata": {
    "id": "JIBKygFlV0V1",
    "ExecuteTime": {
     "end_time": "2025-09-14T14:01:24.378172Z",
     "start_time": "2025-09-14T14:01:24.065588Z"
    }
   },
   "source": [
    "from animaloc.models import HerdNet\n",
    "from torch import Tensor\n",
    "from animaloc.models import LossWrapper\n",
    "from animaloc.train.losses import FocalLoss\n",
    "from torch.nn import CrossEntropyLoss\n",
    "\n",
    "herdnet = HerdNet(num_classes=num_classes, down_ratio=down_ratio).cuda()\n",
    "\n",
    "weight = Tensor([0.1, 1.0, 2.0, 1.0, 6.0, 12.0, 1.0]).cuda()\n",
    "\n",
    "losses = [\n",
    "    {'loss': FocalLoss(reduction='mean'), 'idx': 0, 'idy': 0, 'lambda': 1.0, 'name': 'focal_loss'},\n",
    "    {'loss': CrossEntropyLoss(reduction='mean', weight=weight), 'idx': 1, 'idy': 1, 'lambda': 1.0, 'name': 'ce_loss'}\n",
    "    ]\n",
    "\n",
    "herdnet = LossWrapper(herdnet, losses=losses)"
   ],
   "outputs": [],
   "execution_count": 5
  },
  {
   "cell_type": "markdown",
   "metadata": {
    "id": "Nm5u6yg4V78C"
   },
   "source": [
    "## Create the Trainer"
   ]
  },
  {
   "cell_type": "code",
   "metadata": {
    "id": "MSBimwtzWDZp",
    "ExecuteTime": {
     "end_time": "2025-09-14T14:01:25.504273Z",
     "start_time": "2025-09-14T14:01:25.498380Z"
    }
   },
   "source": [
    "from torch.optim import Adam\n",
    "from animaloc.train import Trainer\n",
    "from animaloc.eval import PointsMetrics, HerdNetStitcher, HerdNetEvaluator\n",
    "from animaloc.utils.useful_funcs import mkdir\n",
    "\n",
    "work_dir = './output'\n",
    "mkdir(work_dir)\n",
    "\n",
    "lr = 1e-4\n",
    "weight_decay = 1e-3\n",
    "epochs = 100\n",
    "\n",
    "optimizer = Adam(params=herdnet.parameters(), lr=lr, weight_decay=weight_decay)\n",
    "\n",
    "metrics = PointsMetrics(radius=20, num_classes=num_classes)\n",
    "\n",
    "stitcher = HerdNetStitcher(\n",
    "    model=herdnet, \n",
    "    size=(patch_size,patch_size), \n",
    "    overlap=160, \n",
    "    down_ratio=down_ratio, \n",
    "    reduction='mean'\n",
    "    )\n",
    "\n",
    "evaluator = HerdNetEvaluator(\n",
    "    model=herdnet, \n",
    "    dataloader=val_dataloader, \n",
    "    metrics=metrics, \n",
    "    stitcher=stitcher, \n",
    "    work_dir=work_dir, \n",
    "    header='validation'\n",
    "    )\n",
    "\n",
    "trainer = Trainer(\n",
    "    model=herdnet,\n",
    "    train_dataloader=train_dataloader,\n",
    "    optimizer=optimizer,\n",
    "    num_epochs=epochs,\n",
    "    evaluator=evaluator,\n",
    "    work_dir=work_dir\n",
    "    )"
   ],
   "outputs": [],
   "execution_count": 6
  },
  {
   "metadata": {
    "ExecuteTime": {
     "end_time": "2025-09-14T14:03:32.706757Z",
     "start_time": "2025-09-14T14:03:30.581917Z"
    }
   },
   "cell_type": "code",
   "source": [
    "import wandb\n",
    "\n",
    "wandb.login()\n",
    "wandb.init(project= 'camera-traps', entity='luis-manrique-car-camera-traps')"
   ],
   "outputs": [
    {
     "name": "stderr",
     "output_type": "stream",
     "text": [
      "\u001B[34m\u001B[1mwandb\u001B[0m: Currently logged in as: \u001B[33mluis-manrique-car\u001B[0m (\u001B[33mluis-manrique-car-camera-traps\u001B[0m) to \u001B[32mhttps://api.wandb.ai\u001B[0m. Use \u001B[1m`wandb login --relogin`\u001B[0m to force relogin\n"
     ]
    },
    {
     "data": {
      "text/plain": [
       "<IPython.core.display.HTML object>"
      ],
      "text/html": []
     },
     "metadata": {},
     "output_type": "display_data"
    },
    {
     "data": {
      "text/plain": [
       "<IPython.core.display.HTML object>"
      ],
      "text/html": [
       "Tracking run with wandb version 0.21.4"
      ]
     },
     "metadata": {},
     "output_type": "display_data"
    },
    {
     "data": {
      "text/plain": [
       "<IPython.core.display.HTML object>"
      ],
      "text/html": [
       "Run data is saved locally in <code>/home/lmanrique/Do/HerdNet/notebooks/wandb/run-20250914_090331-oc3xoj7w</code>"
      ]
     },
     "metadata": {},
     "output_type": "display_data"
    },
    {
     "data": {
      "text/plain": [
       "<IPython.core.display.HTML object>"
      ],
      "text/html": [
       "Syncing run <strong><a href='https://wandb.ai/luis-manrique-car-camera-traps/camera-traps/runs/oc3xoj7w' target=\"_blank\">earthy-salad-25</a></strong> to <a href='https://wandb.ai/luis-manrique-car-camera-traps/camera-traps' target=\"_blank\">Weights & Biases</a> (<a href='https://wandb.me/developer-guide' target=\"_blank\">docs</a>)<br>"
      ]
     },
     "metadata": {},
     "output_type": "display_data"
    },
    {
     "data": {
      "text/plain": [
       "<IPython.core.display.HTML object>"
      ],
      "text/html": [
       " View project at <a href='https://wandb.ai/luis-manrique-car-camera-traps/camera-traps' target=\"_blank\">https://wandb.ai/luis-manrique-car-camera-traps/camera-traps</a>"
      ]
     },
     "metadata": {},
     "output_type": "display_data"
    },
    {
     "data": {
      "text/plain": [
       "<IPython.core.display.HTML object>"
      ],
      "text/html": [
       " View run at <a href='https://wandb.ai/luis-manrique-car-camera-traps/camera-traps/runs/oc3xoj7w' target=\"_blank\">https://wandb.ai/luis-manrique-car-camera-traps/camera-traps/runs/oc3xoj7w</a>"
      ]
     },
     "metadata": {},
     "output_type": "display_data"
    },
    {
     "data": {
      "text/html": [
       "<button onClick=\"this.nextSibling.style.display='block';this.style.display='none';\">Display W&B run</button><iframe src='https://wandb.ai/luis-manrique-car-camera-traps/camera-traps/runs/oc3xoj7w?jupyter=true' style='border:none;width:100%;height:420px;display:none;'></iframe>"
      ],
      "text/plain": [
       "<wandb.sdk.wandb_run.Run at 0x7fbd1d298c20>"
      ]
     },
     "execution_count": 8,
     "metadata": {},
     "output_type": "execute_result"
    }
   ],
   "execution_count": 8
  },
  {
   "cell_type": "markdown",
   "metadata": {
    "id": "axsTtq4WV0ot"
   },
   "source": [
    "## Start training"
   ]
  },
  {
   "cell_type": "code",
   "metadata": {
    "id": "malFT6r5V4rC",
    "jupyter": {
     "is_executing": true
    },
    "ExecuteTime": {
     "start_time": "2025-09-14T14:03:39.451962Z"
    }
   },
   "source": "trainer.start(warmup_iters=100, checkpoints='best', select='max', validate_on='f1_score', wandb_flag=True)",
   "outputs": [
    {
     "name": "stdout",
     "output_type": "stream",
     "text": [
      "[TRAINING] - Epoch: [1] [  1/971] eta: 0:25:46 lr: 0.000002 loss: 9292.0029 (9292.0029) focal_loss: 9290.0020 (9290.0020) ce_loss: 2.0007 (2.0007) time: 1.5923 data: 0.5199 max mem: 4129\n"
     ]
    }
   ],
   "execution_count": null
  },
  {
   "cell_type": "markdown",
   "metadata": {
    "id": "_e0CQd5Bxx5T"
   },
   "source": [
    "## Test the model"
   ]
  },
  {
   "cell_type": "code",
   "execution_count": null,
   "metadata": {
    "id": "D5133GoRz8r_"
   },
   "outputs": [],
   "source": [
    "# Path to your .pth file\n",
    "import gdown\n",
    "\n",
    "pth_path = ''\n",
    "\n",
    "if not pth_path:\n",
    "    gdown.download(\n",
    "        'https://drive.google.com/uc?export=download&id=1-WUnBC4BJMVkNvRqalF_HzA1_pRkQTI_',\n",
    "        '/content/20220413_herdnet_model.pth'\n",
    "        )\n",
    "    pth_path = '/content/20220413_herdnet_model.pth'"
   ]
  },
  {
   "cell_type": "code",
   "execution_count": null,
   "metadata": {
    "id": "VPHXVYWNzVDj"
   },
   "outputs": [],
   "source": [
    "# Create output folder\n",
    "test_dir = '/content/test_output'\n",
    "mkdir(test_dir)"
   ]
  },
  {
   "cell_type": "code",
   "execution_count": null,
   "metadata": {
    "id": "DXUsHk7dzl47"
   },
   "outputs": [],
   "source": [
    "# Load trained parameters\n",
    "from animaloc.models import load_model\n",
    "\n",
    "herdnet = load_model(herdnet, pth_path=pth_path)"
   ]
  },
  {
   "cell_type": "code",
   "execution_count": null,
   "metadata": {
    "id": "lX3Jp883zB-D"
   },
   "outputs": [],
   "source": [
    "# Create an Evaluator\n",
    "test_evaluator = HerdNetEvaluator(\n",
    "    model=herdnet, \n",
    "    dataloader=test_dataloader, \n",
    "    metrics=metrics, \n",
    "    stitcher=stitcher, \n",
    "    work_dir=test_dir, \n",
    "    header='test'\n",
    "    )"
   ]
  },
  {
   "cell_type": "code",
   "execution_count": null,
   "metadata": {
    "id": "CZt_wNle0488"
   },
   "outputs": [],
   "source": [
    "# Start testing\n",
    "test_f1_score = test_evaluator.evaluate(returns='f1_score')"
   ]
  },
  {
   "cell_type": "code",
   "execution_count": null,
   "metadata": {
    "id": "1vICHF-sFGxa"
   },
   "outputs": [],
   "source": [
    "# Print global F1 score (%)\n",
    "print(f\"F1 score = {test_f1_score * 100:0.0f}%\")"
   ]
  },
  {
   "cell_type": "code",
   "execution_count": null,
   "metadata": {
    "id": "ANdn_feR2ZY8"
   },
   "outputs": [],
   "source": [
    "# Get the detections\n",
    "detections = test_evaluator.results\n",
    "detections"
   ]
  }
 ],
 "metadata": {
  "accelerator": "GPU",
  "colab": {
   "authorship_tag": "ABX9TyOEeDjFeLKZlLHdeq13OrD5",
   "provenance": []
  },
  "gpuClass": "standard",
  "kernelspec": {
   "display_name": "Python 3 (ipykernel)",
   "name": "python3",
   "language": "python"
  },
  "language_info": {
   "name": "python"
  }
 },
 "nbformat": 4,
 "nbformat_minor": 0
}
