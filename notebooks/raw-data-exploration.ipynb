{
 "cells": [
  {
   "cell_type": "code",
   "id": "initial_id",
   "metadata": {
    "collapsed": true,
    "ExecuteTime": {
     "end_time": "2025-09-14T12:14:28.499840Z",
     "start_time": "2025-09-14T12:14:28.120733Z"
    }
   },
   "source": [
    "import pandas as pd\n",
    "import matplotlib.pyplot as plt"
   ],
   "outputs": [],
   "execution_count": 2
  },
  {
   "metadata": {
    "ExecuteTime": {
     "end_time": "2025-09-13T17:58:07.717807Z",
     "start_time": "2025-09-13T17:58:07.708134Z"
    }
   },
   "cell_type": "code",
   "source": "dataset = pd.read_csv('../data/groundtruth/csv/train_big_size_A_B_E_K_WH_WB_points.csv')",
   "id": "20a89472b199bbe7",
   "outputs": [],
   "execution_count": 31
  },
  {
   "metadata": {
    "ExecuteTime": {
     "end_time": "2025-09-13T17:58:07.770733Z",
     "start_time": "2025-09-13T17:58:07.761985Z"
    }
   },
   "cell_type": "code",
   "source": "dataset.head()",
   "id": "bd424af70de20b6b",
   "outputs": [
    {
     "data": {
      "text/plain": [
       "                    images       x       y  labels\n",
       "0  L_07_05_16_DSC00126.JPG  2504.0   392.0       3\n",
       "1  L_07_05_16_DSC00126.JPG  1726.5   458.5       3\n",
       "2  L_07_05_16_DSC00127.JPG  2626.5  2337.5       3\n",
       "3  L_07_05_16_DSC00127.JPG  1818.0  2462.5       3\n",
       "4  L_07_05_16_DSC00150.JPG  1539.0  1411.0       2"
      ],
      "text/html": [
       "<div>\n",
       "<style scoped>\n",
       "    .dataframe tbody tr th:only-of-type {\n",
       "        vertical-align: middle;\n",
       "    }\n",
       "\n",
       "    .dataframe tbody tr th {\n",
       "        vertical-align: top;\n",
       "    }\n",
       "\n",
       "    .dataframe thead th {\n",
       "        text-align: right;\n",
       "    }\n",
       "</style>\n",
       "<table border=\"1\" class=\"dataframe\">\n",
       "  <thead>\n",
       "    <tr style=\"text-align: right;\">\n",
       "      <th></th>\n",
       "      <th>images</th>\n",
       "      <th>x</th>\n",
       "      <th>y</th>\n",
       "      <th>labels</th>\n",
       "    </tr>\n",
       "  </thead>\n",
       "  <tbody>\n",
       "    <tr>\n",
       "      <th>0</th>\n",
       "      <td>L_07_05_16_DSC00126.JPG</td>\n",
       "      <td>2504.0</td>\n",
       "      <td>392.0</td>\n",
       "      <td>3</td>\n",
       "    </tr>\n",
       "    <tr>\n",
       "      <th>1</th>\n",
       "      <td>L_07_05_16_DSC00126.JPG</td>\n",
       "      <td>1726.5</td>\n",
       "      <td>458.5</td>\n",
       "      <td>3</td>\n",
       "    </tr>\n",
       "    <tr>\n",
       "      <th>2</th>\n",
       "      <td>L_07_05_16_DSC00127.JPG</td>\n",
       "      <td>2626.5</td>\n",
       "      <td>2337.5</td>\n",
       "      <td>3</td>\n",
       "    </tr>\n",
       "    <tr>\n",
       "      <th>3</th>\n",
       "      <td>L_07_05_16_DSC00127.JPG</td>\n",
       "      <td>1818.0</td>\n",
       "      <td>2462.5</td>\n",
       "      <td>3</td>\n",
       "    </tr>\n",
       "    <tr>\n",
       "      <th>4</th>\n",
       "      <td>L_07_05_16_DSC00150.JPG</td>\n",
       "      <td>1539.0</td>\n",
       "      <td>1411.0</td>\n",
       "      <td>2</td>\n",
       "    </tr>\n",
       "  </tbody>\n",
       "</table>\n",
       "</div>"
      ]
     },
     "execution_count": 32,
     "metadata": {},
     "output_type": "execute_result"
    }
   ],
   "execution_count": 32
  },
  {
   "metadata": {
    "ExecuteTime": {
     "end_time": "2025-09-13T17:58:25.350710Z",
     "start_time": "2025-09-13T17:58:25.345430Z"
    }
   },
   "cell_type": "code",
   "source": [
    "# Check labels distribution (not with plots, just numbers)\n",
    "labels = dataset['labels'].value_counts()\n",
    "print(labels)"
   ],
   "id": "59a6a8eff8d06933",
   "outputs": [
    {
     "name": "stdout",
     "output_type": "stream",
     "text": [
      "labels\n",
      "6    2012\n",
      "3    1732\n",
      "1    1678\n",
      "2    1058\n",
      "4     316\n",
      "5     166\n",
      "Name: count, dtype: int64\n"
     ]
    }
   ],
   "execution_count": 35
  },
  {
   "metadata": {
    "ExecuteTime": {
     "end_time": "2025-09-14T12:14:30.452375Z",
     "start_time": "2025-09-14T12:14:30.448274Z"
    }
   },
   "cell_type": "code",
   "source": "test_dataset = pd.read_csv('../data/groundtruth/csv/test_big_size_A_B_E_K_WH_WB_points.csv')",
   "id": "cd327b2d541150c1",
   "outputs": [],
   "execution_count": 3
  },
  {
   "metadata": {
    "ExecuteTime": {
     "end_time": "2025-09-14T12:14:35.370704Z",
     "start_time": "2025-09-14T12:14:35.360580Z"
    }
   },
   "cell_type": "code",
   "source": "test_dataset.head()",
   "id": "6f73a39b56be2ba",
   "outputs": [
    {
     "data": {
      "text/plain": [
       "                    images       x       y  labels\n",
       "0  S_07_05_16_DSC00094.JPG  5862.5   626.5       3\n",
       "1  S_07_05_16_DSC00162.JPG  1029.0   665.5       2\n",
       "2  S_07_05_16_DSC00162.JPG   806.0   610.0       2\n",
       "3  S_07_05_16_DSC00163.JPG  1305.0  2797.0       2\n",
       "4  S_07_05_16_DSC00163.JPG  1082.5  2744.0       2"
      ],
      "text/html": [
       "<div>\n",
       "<style scoped>\n",
       "    .dataframe tbody tr th:only-of-type {\n",
       "        vertical-align: middle;\n",
       "    }\n",
       "\n",
       "    .dataframe tbody tr th {\n",
       "        vertical-align: top;\n",
       "    }\n",
       "\n",
       "    .dataframe thead th {\n",
       "        text-align: right;\n",
       "    }\n",
       "</style>\n",
       "<table border=\"1\" class=\"dataframe\">\n",
       "  <thead>\n",
       "    <tr style=\"text-align: right;\">\n",
       "      <th></th>\n",
       "      <th>images</th>\n",
       "      <th>x</th>\n",
       "      <th>y</th>\n",
       "      <th>labels</th>\n",
       "    </tr>\n",
       "  </thead>\n",
       "  <tbody>\n",
       "    <tr>\n",
       "      <th>0</th>\n",
       "      <td>S_07_05_16_DSC00094.JPG</td>\n",
       "      <td>5862.5</td>\n",
       "      <td>626.5</td>\n",
       "      <td>3</td>\n",
       "    </tr>\n",
       "    <tr>\n",
       "      <th>1</th>\n",
       "      <td>S_07_05_16_DSC00162.JPG</td>\n",
       "      <td>1029.0</td>\n",
       "      <td>665.5</td>\n",
       "      <td>2</td>\n",
       "    </tr>\n",
       "    <tr>\n",
       "      <th>2</th>\n",
       "      <td>S_07_05_16_DSC00162.JPG</td>\n",
       "      <td>806.0</td>\n",
       "      <td>610.0</td>\n",
       "      <td>2</td>\n",
       "    </tr>\n",
       "    <tr>\n",
       "      <th>3</th>\n",
       "      <td>S_07_05_16_DSC00163.JPG</td>\n",
       "      <td>1305.0</td>\n",
       "      <td>2797.0</td>\n",
       "      <td>2</td>\n",
       "    </tr>\n",
       "    <tr>\n",
       "      <th>4</th>\n",
       "      <td>S_07_05_16_DSC00163.JPG</td>\n",
       "      <td>1082.5</td>\n",
       "      <td>2744.0</td>\n",
       "      <td>2</td>\n",
       "    </tr>\n",
       "  </tbody>\n",
       "</table>\n",
       "</div>"
      ]
     },
     "execution_count": 4,
     "metadata": {},
     "output_type": "execute_result"
    }
   ],
   "execution_count": 4
  },
  {
   "metadata": {
    "ExecuteTime": {
     "end_time": "2025-09-14T12:14:43.593885Z",
     "start_time": "2025-09-14T12:14:43.590373Z"
    }
   },
   "cell_type": "code",
   "source": [
    "labels_test = test_dataset['labels'].value_counts()\n",
    "print(labels_test)"
   ],
   "id": "7d6bda55b73b677c",
   "outputs": [
    {
     "name": "stdout",
     "output_type": "stream",
     "text": [
      "labels\n",
      "6    688\n",
      "1    675\n",
      "3    477\n",
      "2    349\n",
      "4     74\n",
      "5     36\n",
      "Name: count, dtype: int64\n"
     ]
    }
   ],
   "execution_count": 5
  },
  {
   "metadata": {},
   "cell_type": "code",
   "outputs": [],
   "execution_count": null,
   "source": "",
   "id": "c5a3b0fdc25ec1"
  }
 ],
 "metadata": {
  "kernelspec": {
   "display_name": "Python 3",
   "language": "python",
   "name": "python3"
  },
  "language_info": {
   "codemirror_mode": {
    "name": "ipython",
    "version": 2
   },
   "file_extension": ".py",
   "mimetype": "text/x-python",
   "name": "python",
   "nbconvert_exporter": "python",
   "pygments_lexer": "ipython2",
   "version": "2.7.6"
  }
 },
 "nbformat": 4,
 "nbformat_minor": 5
}
