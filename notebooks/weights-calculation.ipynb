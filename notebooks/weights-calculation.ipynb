{
 "cells": [
  {
   "cell_type": "code",
   "id": "initial_id",
   "metadata": {
    "collapsed": true,
    "ExecuteTime": {
     "end_time": "2025-09-14T00:45:09.658286Z",
     "start_time": "2025-09-14T00:45:09.568130Z"
    }
   },
   "source": [
    "import numpy as np\n",
    "# Class counts (index corresponds to class label)\n",
    "class_counts = {\n",
    "  0: float('inf'),  # background - will be set manually\n",
    "  1: 1678,  # topi\n",
    "  2: 1058,  # buffalo\n",
    "  3: 1732,  # kob\n",
    "  4: 316,   # warthog\n",
    "  5: 166,   # waterbuck\n",
    "  6: 2012   # elephant\n",
    "}\n",
    "\n",
    "# Method 2: Max count / class_count\n",
    "def calculate_class_weights(class_counts, background_weight=0.1):\n",
    "  # Get counts for non-background classes\n",
    "  counts = [class_counts[i] for i in range(1, 7)]\n",
    "  max_count = max(counts)\n",
    "\n",
    "  # Calculate weights\n",
    "  weights = [background_weight]  # Background weight\n",
    "  for i in range(1, 7):\n",
    "      weight = max_count / class_counts[i]\n",
    "      weights.append(round(weight, 2))\n",
    "\n",
    "  return weights\n",
    "\n",
    "# Calculate weights\n",
    "weights = calculate_class_weights(class_counts)\n",
    "print(f\"weight: {weights}\")\n",
    "\n",
    "# Format for YAML\n",
    "weights_str = str(weights).replace(' ', '')\n",
    "print(f\"weight: {weights_str}\")\n"
   ],
   "outputs": [
    {
     "name": "stdout",
     "output_type": "stream",
     "text": [
      "weight: [0.1, 1.2, 1.9, 1.16, 6.37, 12.12, 1.0]\n",
      "weight: [0.1,1.2,1.9,1.16,6.37,12.12,1.0]\n"
     ]
    }
   ],
   "execution_count": 1
  },
  {
   "metadata": {},
   "cell_type": "code",
   "outputs": [],
   "execution_count": null,
   "source": "",
   "id": "14a5e65299472cb5"
  }
 ],
 "metadata": {
  "kernelspec": {
   "display_name": "Python 3",
   "language": "python",
   "name": "python3"
  },
  "language_info": {
   "codemirror_mode": {
    "name": "ipython",
    "version": 2
   },
   "file_extension": ".py",
   "mimetype": "text/x-python",
   "name": "python",
   "nbconvert_exporter": "python",
   "pygments_lexer": "ipython2",
   "version": "2.7.6"
  }
 },
 "nbformat": 4,
 "nbformat_minor": 5
}
